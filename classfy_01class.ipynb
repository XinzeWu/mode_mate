{
 "cells": [
  {
   "cell_type": "code",
   "execution_count": 1,
   "metadata": {},
   "outputs": [
    {
     "name": "stderr",
     "output_type": "stream",
     "text": [
      "D:\\app\\anaconda\\lib\\site-packages\\sklearn\\ensemble\\weight_boosting.py:29: DeprecationWarning: numpy.core.umath_tests is an internal NumPy module and should not be imported. It will be removed in a future NumPy release.\n",
      "  from numpy.core.umath_tests import inner1d\n"
     ]
    }
   ],
   "source": [
    "import numpy as np\n",
    "import pandas as pd\n",
    "import matplotlib.pyplot as plt\n",
    "#import seaborn as sns\n",
    "#from scipy import stats\n",
    "import sklearn\n",
    "import sklearn.svm as svm\n",
    "from scipy.stats import norm, skew\n",
    "from scipy.special import boxcox1p\n",
    "from scipy.stats import boxcox_normmax\n",
    "from sklearn.model_selection import KFold, cross_val_score\n",
    "from sklearn.preprocessing import LabelEncoder\n",
    "from sklearn.linear_model import   BayesianRidge, LassoLarsIC\n",
    "from sklearn.ensemble import RandomForestClassifier,  GradientBoostingClassifier\n",
    "from sklearn.kernel_ridge import KernelRidge\n",
    "from sklearn.pipeline import make_pipeline\n",
    "from sklearn.preprocessing import RobustScaler\n",
    "from sklearn.base import BaseEstimator, TransformerMixin, RegressorMixin, clone\n",
    "from sklearn.model_selection import KFold, cross_val_score, train_test_split\n",
    "from sklearn.metrics import mean_squared_error\n",
    "import xgboost as xgb\n",
    "import lightgbm as lgb\n",
    "import csv\n",
    "from collections import Counter\n",
    "from sklearn.linear_model import LinearRegression\n"
   ]
  },
  {
   "cell_type": "code",
   "execution_count": 15,
   "metadata": {},
   "outputs": [],
   "source": [
    "data = pd.read_csv(\"C:/Users/wxz/Desktop/face/01-data/01-data/01class.csv\")\n",
    "label= data['label']\n",
    "data = data.drop(['label'],axis=1)\n",
    "for i in range(72):\n",
    "    temp = data['f{}'.format(i)]\n",
    "    temp = (temp - np.mean(temp))/np.var(temp)\n",
    "    temp = (temp - min(temp))/(max(temp)-min(temp))\n",
    "    data['f{}'.format(i)] = temp\n",
    "data = np.array(data)\n",
    "label = np.array(label)\n"
   ]
  },
  {
   "cell_type": "code",
   "execution_count": 16,
   "metadata": {},
   "outputs": [],
   "source": [
    "data[np.isnan(data)]=0"
   ]
  },
  {
   "cell_type": "code",
   "execution_count": 19,
   "metadata": {},
   "outputs": [
    {
     "data": {
      "text/plain": [
       "array([[False, False, False, ..., False, False, False],\n",
       "       [False, False, False, ..., False, False, False],\n",
       "       [False, False, False, ..., False, False, False],\n",
       "       ...,\n",
       "       [False, False, False, ..., False, False, False],\n",
       "       [False, False, False, ..., False, False, False],\n",
       "       [False, False, False, ..., False, False, False]])"
      ]
     },
     "execution_count": 19,
     "metadata": {},
     "output_type": "execute_result"
    }
   ],
   "source": [
    "np.isnan(data)"
   ]
  },
  {
   "cell_type": "code",
   "execution_count": 17,
   "metadata": {},
   "outputs": [],
   "source": [
    "train_data,test_data, train_label, test_label = train_test_split(data,label,test_size=0.2,random_state=2020)\n",
    "train_data1 ,train_data2,train_label1,train_label2 = train_test_split(train_data,train_label,test_size=0.2,random_state=2020)"
   ]
  },
  {
   "cell_type": "code",
   "execution_count": 20,
   "metadata": {},
   "outputs": [],
   "source": [
    "model_rfc = RandomForestClassifier(n_estimators=3000, criterion='gini', max_depth=None,\n",
    "                                   min_samples_split=2,min_samples_leaf=1,\n",
    "                                   min_weight_fraction_leaf=0.0,\n",
    "                                   max_features='auto',\n",
    "                                   max_leaf_nodes=None, bootstrap=True,\n",
    "                                   oob_score=False, n_jobs=1, random_state=None, verbose=0,\n",
    "                                   warm_start=False, class_weight=None)\n",
    "model_rfc.fit(train_data1,train_label1)\n",
    "pre1 = model_rfc.predict_proba(train_data2)"
   ]
  },
  {
   "cell_type": "code",
   "execution_count": 21,
   "metadata": {},
   "outputs": [],
   "source": [
    "model_xgb = xgb.XGBClassifier(colsample_bytree=0.4603, gamma=0.0468,\n",
    "                             learning_rate=0.05, max_depth=3,\n",
    "                             min_child_weight=1.7817, n_estimators=2200,\n",
    "                             reg_alpha=0.4640, reg_lambda=0.8571,\n",
    "                             subsample=0.5213, silent=1,\n",
    "                             random_state =7, nthread = -1)\n",
    "model_xgb.fit(train_data1,train_label1)\n",
    "pre2 = model_xgb.predict_proba(train_data2)"
   ]
  },
  {
   "cell_type": "code",
   "execution_count": 22,
   "metadata": {},
   "outputs": [],
   "source": [
    "model_lgb = lgb.LGBMClassifier(objective='regression',num_leaves=5,\n",
    "                              learning_rate=0.05, n_estimators=720,\n",
    "                              max_bin = 55, bagging_fraction = 0.8,\n",
    "                              bagging_freq = 5, feature_fraction = 0.2319,\n",
    "                              feature_fraction_seed=9, bagging_seed=9,\n",
    "                              min_data_in_leaf =6, min_sum_hessian_in_leaf = 11)\n",
    "model_lgb.fit(train_data1,train_label1)\n",
    "pre3 = model_lgb.predict_proba(train_data2)"
   ]
  },
  {
   "cell_type": "code",
   "execution_count": 23,
   "metadata": {},
   "outputs": [],
   "source": [
    "model_dtc = sklearn.tree.DecisionTreeClassifier(criterion='gini', splitter='best',max_depth=None, min_samples_split=2, min_samples_leaf=1,min_weight_fraction_leaf=0.0, max_features=None,random_state=None,max_leaf_nodes=None, min_impurity_decrease=1e-07, class_weight=None)\n",
    "model_dtc.fit(train_data1,train_label1)\n",
    "pre4 = model_dtc.predict_proba(train_data2)"
   ]
  },
  {
   "cell_type": "code",
   "execution_count": 24,
   "metadata": {},
   "outputs": [],
   "source": [
    "model_svm = svm.SVC(C = 32,gamma = 0.5,kernel='rbf', probability = True)\n",
    "model_svm.fit(train_data1,train_label1)\n",
    "pre5 = model_svm.predict_proba(train_data2)"
   ]
  },
  {
   "cell_type": "code",
   "execution_count": 25,
   "metadata": {},
   "outputs": [],
   "source": [
    "meta_model = LinearRegression()"
   ]
  },
  {
   "cell_type": "code",
   "execution_count": 26,
   "metadata": {},
   "outputs": [
    {
     "data": {
      "text/plain": [
       "0.5833333333333334"
      ]
     },
     "execution_count": 26,
     "metadata": {},
     "output_type": "execute_result"
    }
   ],
   "source": [
    "label1 = np.argmax(pre1, axis=1)\n",
    "acc1 = (label1==train_label2).sum()/len(train_label2)\n",
    "acc1"
   ]
  },
  {
   "cell_type": "code",
   "execution_count": 27,
   "metadata": {},
   "outputs": [
    {
     "data": {
      "text/plain": [
       "0.75"
      ]
     },
     "execution_count": 27,
     "metadata": {},
     "output_type": "execute_result"
    }
   ],
   "source": [
    "label2 = np.argmax(pre2, axis=1)\n",
    "acc2 = (label2==train_label2).sum()/len(train_label2)\n",
    "acc2"
   ]
  },
  {
   "cell_type": "code",
   "execution_count": 28,
   "metadata": {},
   "outputs": [
    {
     "data": {
      "text/plain": [
       "0.6666666666666666"
      ]
     },
     "execution_count": 28,
     "metadata": {},
     "output_type": "execute_result"
    }
   ],
   "source": [
    "label3 = np.argmax(pre3, axis=1)\n",
    "acc3 = (label3==train_label2).sum()/len(train_label2)\n",
    "acc3"
   ]
  },
  {
   "cell_type": "code",
   "execution_count": 29,
   "metadata": {},
   "outputs": [
    {
     "data": {
      "text/plain": [
       "0.75"
      ]
     },
     "execution_count": 29,
     "metadata": {},
     "output_type": "execute_result"
    }
   ],
   "source": [
    "label4 = np.argmax(pre4, axis=1)\n",
    "acc4 = (label4==train_label2).sum()/len(train_label2)\n",
    "acc4"
   ]
  },
  {
   "cell_type": "code",
   "execution_count": 30,
   "metadata": {},
   "outputs": [
    {
     "data": {
      "text/plain": [
       "0.6666666666666666"
      ]
     },
     "execution_count": 30,
     "metadata": {},
     "output_type": "execute_result"
    }
   ],
   "source": [
    "label5 = np.argmax(pre5, axis=1)\n",
    "acc5 = (label5==train_label2).sum()/len(train_label2)\n",
    "acc5"
   ]
  },
  {
   "cell_type": "code",
   "execution_count": 31,
   "metadata": {},
   "outputs": [
    {
     "data": {
      "text/plain": [
       "0.75"
      ]
     },
     "execution_count": 31,
     "metadata": {},
     "output_type": "execute_result"
    }
   ],
   "source": [
    "pre6 = pre1+pre2+pre3+pre4+pre5\n",
    "label6 = np.argmax(pre6, axis=1)\n",
    "acc6 = (label6==train_label2).sum()/len(train_label2)\n",
    "acc6"
   ]
  },
  {
   "cell_type": "code",
   "execution_count": 32,
   "metadata": {},
   "outputs": [
    {
     "data": {
      "text/plain": [
       "array([[0, 0, 0, 1, 1, 0],\n",
       "       [0, 0, 0, 0, 0, 0],\n",
       "       [0, 1, 1, 1, 0, 1],\n",
       "       [1, 1, 1, 1, 1, 1],\n",
       "       [0, 0, 0, 0, 0, 0],\n",
       "       [1, 0, 0, 0, 1, 0],\n",
       "       [0, 0, 0, 0, 0, 0],\n",
       "       [0, 0, 0, 0, 0, 0],\n",
       "       [0, 0, 0, 0, 0, 0],\n",
       "       [1, 1, 1, 0, 1, 1],\n",
       "       [0, 0, 0, 0, 0, 0],\n",
       "       [0, 0, 1, 0, 0, 0]], dtype=int64)"
      ]
     },
     "execution_count": 32,
     "metadata": {},
     "output_type": "execute_result"
    }
   ],
   "source": [
    "out_put = [label1,label2,label3,label4,label5,label6]\n",
    "out_put = np.array(out_put)\n",
    "out_put= out_put.T\n",
    "out_put"
   ]
  },
  {
   "cell_type": "code",
   "execution_count": 33,
   "metadata": {},
   "outputs": [
    {
     "data": {
      "text/plain": [
       "LinearRegression(copy_X=True, fit_intercept=True, n_jobs=1, normalize=False)"
      ]
     },
     "execution_count": 33,
     "metadata": {},
     "output_type": "execute_result"
    }
   ],
   "source": [
    "meta_model.fit(out_put,train_label2)"
   ]
  },
  {
   "cell_type": "code",
   "execution_count": 34,
   "metadata": {},
   "outputs": [],
   "source": [
    "l1 = model_rfc.predict_proba(test_data)\n",
    "l2 = model_xgb.predict_proba(test_data)\n",
    "l3 = model_lgb.predict_proba(test_data)\n",
    "l4 = model_dtc.predict_proba(test_data)\n",
    "l5 = model_svm.predict_proba(test_data)\n",
    "l6 = l1+l2+l3+l4+l5\n",
    "l1 = np.argmax(l1, axis=1)\n",
    "l2 = np.argmax(l2, axis=1)\n",
    "l3 = np.argmax(l3, axis=1)\n",
    "l4 = np.argmax(l4, axis=1)\n",
    "l5 = np.argmax(l5, axis=1)\n",
    "l6 = np.argmax(l6, axis=1)\n",
    "all_l = np.array([l1,l2,l3,l4,l5,l6])\n",
    "all_l = all_l.T"
   ]
  },
  {
   "cell_type": "code",
   "execution_count": 37,
   "metadata": {},
   "outputs": [
    {
     "data": {
      "text/plain": [
       "0.7142857142857143"
      ]
     },
     "execution_count": 37,
     "metadata": {},
     "output_type": "execute_result"
    }
   ],
   "source": [
    "pre_test = meta_model.predict(all_l)\n",
    "acc = ((abs(pre_test-test_label))<=1).sum()/len(test_label)\n",
    "acc"
   ]
  },
  {
   "cell_type": "code",
   "execution_count": 42,
   "metadata": {},
   "outputs": [
    {
     "data": {
      "text/plain": [
       "array([ 2.63157895e-01,  2.10526316e-01,  2.63157895e-01, -1.26315789e+00,\n",
       "        2.63157895e-01, -1.26315789e+00,  2.10526316e-01,  1.00000000e+00,\n",
       "        2.63157895e-01,  1.73684211e+00,  2.63157895e-01, -8.32667268e-17,\n",
       "        2.47368421e+00, -1.26315789e+00])"
      ]
     },
     "execution_count": 42,
     "metadata": {},
     "output_type": "execute_result"
    }
   ],
   "source": [
    "pre_test"
   ]
  },
  {
   "cell_type": "code",
   "execution_count": 43,
   "metadata": {},
   "outputs": [
    {
     "data": {
      "text/plain": [
       "array([1, 0, 1, 0, 1, 1, 0, 0, 1, 1, 1, 0, 1, 1], dtype=int64)"
      ]
     },
     "execution_count": 43,
     "metadata": {},
     "output_type": "execute_result"
    }
   ],
   "source": [
    "test_label"
   ]
  },
  {
   "cell_type": "code",
   "execution_count": 44,
   "metadata": {},
   "outputs": [
    {
     "data": {
      "text/plain": [
       "array([0, 0, 1, 1, 0, 0, 0, 0, 0, 1, 0, 0], dtype=int64)"
      ]
     },
     "execution_count": 44,
     "metadata": {},
     "output_type": "execute_result"
    }
   ],
   "source": [
    "label6"
   ]
  },
  {
   "cell_type": "code",
   "execution_count": null,
   "metadata": {},
   "outputs": [],
   "source": []
  }
 ],
 "metadata": {
  "kernelspec": {
   "display_name": "Python 3",
   "language": "python",
   "name": "python3"
  },
  "language_info": {
   "codemirror_mode": {
    "name": "ipython",
    "version": 3
   },
   "file_extension": ".py",
   "mimetype": "text/x-python",
   "name": "python",
   "nbconvert_exporter": "python",
   "pygments_lexer": "ipython3",
   "version": "3.6.4"
  }
 },
 "nbformat": 4,
 "nbformat_minor": 2
}
